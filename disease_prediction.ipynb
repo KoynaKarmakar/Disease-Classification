{
  "nbformat": 4,
  "nbformat_minor": 0,
  "metadata": {
    "colab": {
      "provenance": [],
      "authorship_tag": "ABX9TyNxVIHwi6n2idyKuYDTkO4K",
      "include_colab_link": true
    },
    "kernelspec": {
      "name": "python3",
      "display_name": "Python 3"
    },
    "language_info": {
      "name": "python"
    }
  },
  "cells": [
    {
      "cell_type": "markdown",
      "metadata": {
        "id": "view-in-github",
        "colab_type": "text"
      },
      "source": [
        "<a href=\"https://colab.research.google.com/github/KoynaKarmakar/Disease-Classification/blob/main/disease_prediction.ipynb\" target=\"_parent\"><img src=\"https://colab.research.google.com/assets/colab-badge.svg\" alt=\"Open In Colab\"/></a>"
      ]
    },
    {
      "cell_type": "code",
      "execution_count": 1,
      "metadata": {
        "id": "uL9enLYdPRuw"
      },
      "outputs": [],
      "source": [
        "import pandas as pd\n",
        "import numpy as np\n",
        "from sklearn.model_selection import StratifiedKFold\n",
        "from sklearn.svm import SVC\n",
        "from sklearn.preprocessing import StandardScaler\n",
        "from sklearn.metrics import accuracy_score, classification_report"
      ]
    },
    {
      "cell_type": "code",
      "source": [
        "data = pd.read_csv(\"/content/disease_data.csv\")"
      ],
      "metadata": {
        "id": "RPivEQpBPcu2"
      },
      "execution_count": 2,
      "outputs": []
    },
    {
      "cell_type": "code",
      "source": [
        "target_column = data.columns[-1]\n",
        "X = data.drop(columns=[target_column])\n",
        "y = data[target_column]"
      ],
      "metadata": {
        "id": "loBTt678Pvdu"
      },
      "execution_count": 3,
      "outputs": []
    },
    {
      "cell_type": "code",
      "source": [
        "scaler = StandardScaler()\n",
        "X_scaled = scaler.fit_transform(X)\n",
        "\n",
        "kf = StratifiedKFold(n_splits=5, shuffle=True, random_state=42)\n",
        "accuracies = []\n"
      ],
      "metadata": {
        "id": "WNnFeD3-PzNt"
      },
      "execution_count": 4,
      "outputs": []
    },
    {
      "cell_type": "code",
      "source": [
        "for train_index, test_index in kf.split(X_scaled, y):\n",
        "    X_train, X_test = X_scaled[train_index], X_scaled[test_index]\n",
        "    y_train, y_test = y.iloc[train_index], y.iloc[test_index]\n",
        "\n",
        "\n",
        "    model = SVC(kernel='rbf', C=1.0, gamma='scale')\n",
        "    model.fit(X_train, y_train)\n",
        "\n",
        "    y_pred = model.predict(X_test)\n",
        "\n",
        "    acc = accuracy_score(y_test, y_pred)\n",
        "    accuracies.append(acc)\n",
        "    print(classification_report(y_test, y_pred))\n",
        "\n",
        "print(f\"Average Accuracy: {np.mean(accuracies):.4f}\")"
      ],
      "metadata": {
        "colab": {
          "base_uri": "https://localhost:8080/"
        },
        "id": "4WS-DJAMP2zk",
        "outputId": "e919c3a5-6bd1-415c-8ac4-aeadb5bbeaeb"
      },
      "execution_count": 5,
      "outputs": [
        {
          "output_type": "stream",
          "name": "stdout",
          "text": [
            "              precision    recall  f1-score   support\n",
            "\n",
            "           0       0.81      0.79      0.80        28\n",
            "           1       0.92      0.93      0.92        72\n",
            "\n",
            "    accuracy                           0.89       100\n",
            "   macro avg       0.87      0.86      0.86       100\n",
            "weighted avg       0.89      0.89      0.89       100\n",
            "\n",
            "              precision    recall  f1-score   support\n",
            "\n",
            "           0       0.77      0.71      0.74        28\n",
            "           1       0.89      0.92      0.90        72\n",
            "\n",
            "    accuracy                           0.86       100\n",
            "   macro avg       0.83      0.82      0.82       100\n",
            "weighted avg       0.86      0.86      0.86       100\n",
            "\n",
            "              precision    recall  f1-score   support\n",
            "\n",
            "           0       0.96      0.82      0.88        28\n",
            "           1       0.93      0.99      0.96        72\n",
            "\n",
            "    accuracy                           0.94       100\n",
            "   macro avg       0.95      0.90      0.92       100\n",
            "weighted avg       0.94      0.94      0.94       100\n",
            "\n",
            "              precision    recall  f1-score   support\n",
            "\n",
            "           0       0.88      0.72      0.79        29\n",
            "           1       0.89      0.96      0.93        71\n",
            "\n",
            "    accuracy                           0.89       100\n",
            "   macro avg       0.88      0.84      0.86       100\n",
            "weighted avg       0.89      0.89      0.89       100\n",
            "\n",
            "              precision    recall  f1-score   support\n",
            "\n",
            "           0       0.77      0.69      0.73        29\n",
            "           1       0.88      0.92      0.90        71\n",
            "\n",
            "    accuracy                           0.85       100\n",
            "   macro avg       0.82      0.80      0.81       100\n",
            "weighted avg       0.85      0.85      0.85       100\n",
            "\n",
            "Average Accuracy: 0.8860\n"
          ]
        }
      ]
    },
    {
      "cell_type": "code",
      "source": [],
      "metadata": {
        "id": "ciLJRgcoP7Vu"
      },
      "execution_count": null,
      "outputs": []
    }
  ]
}